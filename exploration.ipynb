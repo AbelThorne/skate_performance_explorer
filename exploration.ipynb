{
 "cells": [
  {
   "cell_type": "code",
   "execution_count": 32,
   "metadata": {},
   "outputs": [],
   "source": [
    "from backend.database import engine\n",
    "from sqlmodel import Session, select, text\n",
    "from commons.schemas import *\n",
    "\n",
    "from backend.queries import *\n",
    "\n",
    "import pandas as pd\n",
    "\n",
    "db = Session(engine)"
   ]
  },
  {
   "cell_type": "code",
   "execution_count": 36,
   "metadata": {},
   "outputs": [],
   "source": [
    "\n",
    "def query_per_competition(comp_id: int):\n",
    "    query = f\"\"\"\n",
    "        SELECT skater.first_name, skater.last_name, category.level, category.age, category.genre, performance.rank, performance.total_segment_score, performance.total_element_score, performance.total_component_score, performance.total_deductions, performance.total_entries, club.abbrev, competition.name\n",
    "        FROM performance\n",
    "        JOIN skater ON performance.skater_id = skater.id\n",
    "        JOIN club ON skater.club_id = club.id\n",
    "        JOIN category ON performance.category_id = category.id\n",
    "        JOIN competition ON category.competition_id = competition.id\n",
    "        WHERE \n",
    "            competition.id = {comp_id}\n",
    "        ORDER BY category.level, category.age, category.genre, performance.rank\n",
    "    \"\"\"\n",
    "    return text(query)\n"
   ]
  },
  {
   "cell_type": "code",
   "execution_count": 37,
   "metadata": {},
   "outputs": [
    {
     "name": "stdout",
     "output_type": "stream",
     "text": [
      "2024-04-02 21:54:04,653 INFO sqlalchemy.engine.Engine SELECT pg_catalog.pg_class.relname \n",
      "FROM pg_catalog.pg_class JOIN pg_catalog.pg_namespace ON pg_catalog.pg_namespace.oid = pg_catalog.pg_class.relnamespace \n",
      "WHERE pg_catalog.pg_class.relname = %(table_name)s AND pg_catalog.pg_class.relkind = ANY (ARRAY[%(param_1)s, %(param_2)s, %(param_3)s, %(param_4)s, %(param_5)s]) AND pg_catalog.pg_table_is_visible(pg_catalog.pg_class.oid) AND pg_catalog.pg_namespace.nspname != %(nspname_1)s\n",
      "2024-04-02 21:54:04,654 INFO sqlalchemy.engine.Engine [cached since 3928s ago] {'table_name': <sqlalchemy.sql.elements.TextClause object at 0x140d5f080>, 'param_1': 'r', 'param_2': 'p', 'param_3': 'f', 'param_4': 'v', 'param_5': 'm', 'nspname_1': 'pg_catalog'}\n",
      "2024-04-02 21:54:04,655 INFO sqlalchemy.engine.Engine \n",
      "        SELECT skater.first_name, skater.last_name, category.level, category.age, category.genre, performance.rank, performance.total_segment_score, performance.total_element_score, performance.total_component_score, performance.total_deductions, performance.total_entries, club.abbrev, competition.name\n",
      "        FROM performance\n",
      "        JOIN skater ON performance.skater_id = skater.id\n",
      "        JOIN club ON skater.club_id = club.id\n",
      "        JOIN category ON performance.category_id = category.id\n",
      "        JOIN competition ON category.competition_id = competition.id\n",
      "        WHERE \n",
      "            competition.id = 1\n",
      "        ORDER BY category.level, category.age, category.genre, performance.rank\n",
      "    \n",
      "2024-04-02 21:54:04,656 INFO sqlalchemy.engine.Engine [generated in 0.00078s] {}\n",
      "    first_name       last_name    level                          age   genre  \\\n",
      "0      Marilou         MELLONE  Fédéral                       Junior   Dames   \n",
      "1     Mathilde         CLIQUOT  Fédéral                       Junior   Dames   \n",
      "2          Aya      EL BOURAKI  Fédéral                       Junior   Dames   \n",
      "3        Danae        DESHAIES  Fédéral                       Junior   Dames   \n",
      "4          Mia          GARCIA  Fédéral                       Junior   Dames   \n",
      "..         ...             ...      ...                          ...     ...   \n",
      "158     Noemie         GETREAU     R3 C             Poussin-Benjamin   Dames   \n",
      "159      Enora           ROYER     R3 C             Poussin-Benjamin   Dames   \n",
      "160       Lyna          ALBERT     R3 C             Poussin-Benjamin   Dames   \n",
      "161    Hadrien          FLORES     R3 D  Minime-Novice-Junior-Senior  Hommes   \n",
      "162      Kiara  GARCES RICHTER     R3 D             Poussin-Benjamin   Dames   \n",
      "\n",
      "     rank  total_segment_score  total_element_score  total_component_score  \\\n",
      "0     1.0                42.53                17.84                  24.69   \n",
      "1     2.0                42.48                18.42                  25.56   \n",
      "2     3.0                40.16                16.33                  24.33   \n",
      "3     4.0                37.86                14.34                  24.52   \n",
      "4     5.0                37.37                16.21                  21.66   \n",
      "..    ...                  ...                  ...                    ...   \n",
      "158   6.0                10.97                 4.22                   7.75   \n",
      "159   7.0                10.71                 4.47                   6.74   \n",
      "160   8.0                10.51                 4.50                   6.51   \n",
      "161   1.0                 9.50                 2.88                   7.12   \n",
      "162   1.0                 9.49                 2.60                   6.89   \n",
      "\n",
      "     total_deductions  total_entries abbrev                name  \n",
      "0                 0.0             11  MONTP  Coupe Gerard Prido  \n",
      "1                 1.5             11  BLAGN  Coupe Gerard Prido  \n",
      "2                 0.5             11  BLAGN  Coupe Gerard Prido  \n",
      "3                 1.0             11  BLAGN  Coupe Gerard Prido  \n",
      "4                 0.5             11  BLAGN  Coupe Gerard Prido  \n",
      "..                ...            ...    ...                 ...  \n",
      "158               1.0              8  BLAGN  Coupe Gerard Prido  \n",
      "159               0.5              8  ANGLE  Coupe Gerard Prido  \n",
      "160               0.5              8  MONTP  Coupe Gerard Prido  \n",
      "161               0.5              1  NARBO  Coupe Gerard Prido  \n",
      "162               0.0              1  NARBO  Coupe Gerard Prido  \n",
      "\n",
      "[163 rows x 13 columns]\n"
     ]
    }
   ],
   "source": [
    "\n",
    "# tcp_competitions = pd.read_sql(query_competitions_from_club(\"TOUCP\"), db.connection())\n",
    "# print(tcp_competitions)\n",
    "perf_competitions = pd.read_sql(query_per_competition(1), db.connection())\n",
    "print(perf_competitions)\n"
   ]
  },
  {
   "cell_type": "code",
   "execution_count": null,
   "metadata": {},
   "outputs": [],
   "source": [
    "perf_competitions.groupby(\"club.abbrev\").apply(lambda x: x.sort_values(\"category.level\", ascending=False)).reset_index(drop=True)"
   ]
  },
  {
   "cell_type": "code",
   "execution_count": null,
   "metadata": {},
   "outputs": [],
   "source": []
  }
 ],
 "metadata": {
  "kernelspec": {
   "display_name": "skate_performance_explorer-QtQYqeW3",
   "language": "python",
   "name": "python3"
  },
  "language_info": {
   "codemirror_mode": {
    "name": "ipython",
    "version": 3
   },
   "file_extension": ".py",
   "mimetype": "text/x-python",
   "name": "python",
   "nbconvert_exporter": "python",
   "pygments_lexer": "ipython3",
   "version": "3.12.2"
  }
 },
 "nbformat": 4,
 "nbformat_minor": 2
}
