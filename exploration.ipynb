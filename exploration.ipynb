{
 "cells": [
  {
   "cell_type": "code",
   "execution_count": 1,
   "metadata": {},
   "outputs": [],
   "source": [
    "from backend.database import engine\n",
    "from sqlmodel import Session, select, text\n",
    "from sqlalchemy import func as F\n",
    "from commons.schemas import *\n",
    "\n",
    "from backend.queries import *\n",
    "\n",
    "import pandas as pd\n",
    "import numpy as np\n",
    "\n",
    "db = Session(engine)"
   ]
  },
  {
   "cell_type": "code",
   "execution_count": 2,
   "metadata": {},
   "outputs": [
    {
     "name": "stdout",
     "output_type": "stream",
     "text": [
      "\n",
      "        SELECT skater.first_name, skater.last_name, category.level as category_level, category.age as category_age, category.genre as category_genre, performance.rank, performance.score, performance.total_entries, club.abbrev as club, competition.name as competition_name, competition.season \n",
      "        FROM performance\n",
      "        JOIN skater ON performance.skater_id = skater.id\n",
      "        JOIN club ON skater.club_id = club.id\n",
      "        JOIN category ON performance.category_id = category.id\n",
      "        JOIN competition ON category.competition_id = competition.id\n",
      "    \tWHERE competition.id = 1\n",
      "\tORDER BY category.level, category.age, category.genre, performance.rank\n",
      "\n"
     ]
    }
   ],
   "source": [
    "\n",
    "def query_per_competition(comp_id: int | None=None):\n",
    "    query = f\"\"\"\n",
    "        SELECT skater.first_name, skater.last_name, category.level as category_level, category.age as category_age, category.genre as category_genre, performance.rank, performance.score, performance.total_entries, club.abbrev as club, competition.name as competition_name, competition.season \n",
    "        FROM performance\n",
    "        JOIN skater ON performance.skater_id = skater.id\n",
    "        JOIN club ON skater.club_id = club.id\n",
    "        JOIN category ON performance.category_id = category.id\n",
    "        JOIN competition ON category.competition_id = competition.id\n",
    "    \"\"\"\n",
    "    if comp_id is not None:\n",
    "        query += f\"\\tWHERE competition.id = {comp_id}\\n\"\n",
    "    query += \"\\tORDER BY category.level, category.age, category.genre, performance.rank\\n\"\n",
    "    return text(query)\n",
    "\n",
    "print(query_per_competition(1))"
   ]
  },
  {
   "cell_type": "code",
   "execution_count": 3,
   "metadata": {},
   "outputs": [
    {
     "name": "stdout",
     "output_type": "stream",
     "text": [
      "     first_name       last_name category_level      category_age  \\\n",
      "0        Samuel         VANNIER   Adulte Acier                     \n",
      "1          Sara         PAPPOLA  Adulte Argent                     \n",
      "2       Stefany          LEONET  Adulte Argent                     \n",
      "3      Violette          CLUZEL  Adulte Argent                     \n",
      "4       Stefany          LEONET  Adulte Argent                     \n",
      "...         ...             ...            ...               ...   \n",
      "1465      Kiara  GARCES RICHTER           R3 D  Poussin-Benjamin   \n",
      "1466      Kiara  GARCES RICHTER           R3 D  Poussin-Benjamin   \n",
      "1467      Kiara  GARCES RICHTER           R3 D  Poussin-Benjamin   \n",
      "1468      Kiara  GARCES RICHTER           R3 D  Poussin-Benjamin   \n",
      "1469      Kiara  GARCES RICHTER           R3 D  Poussin-Benjamin   \n",
      "\n",
      "     category_genre  rank  score  total_entries   club  \\\n",
      "0            Hommes   1.0  12.31              1  GRCEA   \n",
      "1             Dames   1.0  21.10              2  TOUCP   \n",
      "2             Dames   1.0  23.04              8  NIMES   \n",
      "3             Dames   2.0  22.32              8  NIMES   \n",
      "4             Dames   2.0  20.39              2  NIMES   \n",
      "...             ...   ...    ...            ...    ...   \n",
      "1465          Dames   1.0   5.33              1  NARBO   \n",
      "1466          Dames   1.0   9.49              1  NARBO   \n",
      "1467          Dames   1.0   6.99              1  NARBO   \n",
      "1468          Dames   1.0   5.90              1  NARBO   \n",
      "1469          Dames   2.0   6.98              2  NARBO   \n",
      "\n",
      "                                       competition_name     season  \n",
      "0                                   Coupe des Costières  2023-2024  \n",
      "1                 SFC Sud-Ouest - Trophée des Violettes  2023-2024  \n",
      "2                                   Coupe des Costières  2023-2024  \n",
      "3                                   Coupe des Costières  2023-2024  \n",
      "4                 SFC Sud-Ouest - Trophée des Violettes  2023-2024  \n",
      "...                                                 ...        ...  \n",
      "1465                                Coupe des Costières  2023-2024  \n",
      "1466                                 Coupe Gerard Prido  2023-2024  \n",
      "1467              SFC Sud-Ouest - Trophée des Violettes  2023-2024  \n",
      "1468  Trophée de la Ville de Blagnac - Championnat d...  2023-2024  \n",
      "1469                                  Trophée du Soleil  2023-2024  \n",
      "\n",
      "[1470 rows x 11 columns]\n"
     ]
    }
   ],
   "source": [
    "\n",
    "# tcp_competitions = pd.read_sql(query_competitions_from_club(\"TOUCP\"), db.connection())\n",
    "# print(tcp_competitions)\n",
    "perf_competitions = pd.read_sql(query_per_competition(), db.connection())\n",
    "print(perf_competitions)\n"
   ]
  },
  {
   "cell_type": "code",
   "execution_count": 4,
   "metadata": {},
   "outputs": [
    {
     "name": "stdout",
     "output_type": "stream",
     "text": [
      "     first_name        last_name   club    competition_name     season  \\\n",
      "328      Rachel         MARTINEZ  FONTR  Coupe Gerard Prido  2023-2024   \n",
      "365    Mathilde             MERY  MONTP  Coupe Gerard Prido  2023-2024   \n",
      "386       Lucie          SANCHEZ  TOUCP  Coupe Gerard Prido  2023-2024   \n",
      "814       Suzon          BLAZART  BRIVE  Coupe Gerard Prido  2023-2024   \n",
      "935       Laura          PASCUAL  TOUCP  Coupe Gerard Prido  2023-2024   \n",
      "...         ...              ...    ...                 ...        ...   \n",
      "866      Sofiia         SUBOTINA  BLAGN   Trophée du Soleil  2022-2023   \n",
      "943      Jeanne   BOUTON MARGAIL  FONTR   Trophée du Soleil  2023-2024   \n",
      "1099      Maeva  ZALATEU--LATGER  BLAGN   Trophée du Soleil  2023-2024   \n",
      "1259      Sarah           BESSAC  TOUCP   Trophée du Soleil  2023-2024   \n",
      "1330       Leia         CLEMENTE  BLAGN   Trophée du Soleil  2023-2024   \n",
      "\n",
      "     category_level                 category_age category_genre  rank  \\\n",
      "328         Fédéral                       Junior          Dames  11.0   \n",
      "365         Fédéral                       Novice          Dames   NaN   \n",
      "386         Fédéral                       Senior          Dames   NaN   \n",
      "814              R1                       Minime          Dames   NaN   \n",
      "935              R2                Junior-Senior          Dames   NaN   \n",
      "...             ...                          ...            ...   ...   \n",
      "866              R2                Junior-Senior          Dames   1.0   \n",
      "943              R2                       Minime          Dames   1.0   \n",
      "1099           R3 A  Minime-Novice-Junior-Senior          Dames   1.0   \n",
      "1259           R3 B             Poussin-Benjamin          Dames   1.0   \n",
      "1330           R3 C  Minime-Novice-Junior-Senior          Dames   1.0   \n",
      "\n",
      "      trophy_podium  trophy_position  trophy_total  \n",
      "328             0.0              0.0           0.0  \n",
      "365             0.0              0.0           0.0  \n",
      "386             0.0              0.0           0.0  \n",
      "814             0.0              0.0           0.0  \n",
      "935             0.0              0.0           0.0  \n",
      "...             ...              ...           ...  \n",
      "866             3.0             10.0          13.0  \n",
      "943             3.0             10.0          13.0  \n",
      "1099            3.0             10.0          13.0  \n",
      "1259            3.0             10.0          13.0  \n",
      "1330            3.0             10.0          13.0  \n",
      "\n",
      "[1470 rows x 12 columns]\n"
     ]
    }
   ],
   "source": [
    "def compute_club_trophy_score(row):\n",
    "    if np.isnan(row[\"rank\"]):\n",
    "        return 0, 0, 0\n",
    "    podium = 0\n",
    "    if row[\"rank\"] == 1:\n",
    "        podium = 3\n",
    "    elif row[\"rank\"] == 2:\n",
    "        podium = 2\n",
    "    elif row[\"rank\"] == 3:\n",
    "        podium = 1\n",
    "    position = max(min(row[\"total_entries\"], 10) - row[\"rank\"] + 1,0)\n",
    "    return podium, position, podium + position\n",
    "\n",
    "perf_competitions[[\"trophy_podium\", \"trophy_position\", \"trophy_total\"]] = perf_competitions.apply(compute_club_trophy_score, axis=1, result_type='expand')\n",
    "print(perf_competitions[[\"first_name\", \"last_name\", \"club\", \"competition_name\", \"season\", \"category_level\", \"category_age\", \"category_genre\", \"rank\", \"trophy_podium\", \"trophy_position\", \"trophy_total\"]].sort_values(by=[\"competition_name\",\"trophy_total\"]))"
   ]
  },
  {
   "cell_type": "code",
   "execution_count": 5,
   "metadata": {},
   "outputs": [
    {
     "name": "stdout",
     "output_type": "stream",
     "text": [
      "        season   club    competition_name  trophy_podium  trophy_position  \\\n",
      "0    2023-2024  BLAGN   Trophée du Soleil           36.0            138.0   \n",
      "1    2023-2024  TOUCP   Trophée du Soleil           29.0            113.0   \n",
      "2    2023-2024  MONTP   Trophée du Soleil           22.0            105.0   \n",
      "3    2023-2024  MARSE   Trophée du Soleil           23.0             94.0   \n",
      "4    2023-2024  NIMES   Trophée du Soleil           35.0             80.0   \n",
      "..         ...    ...                 ...            ...              ...   \n",
      "123  2022-2023  NIMES  Coupe Gérard Prido           27.0             54.0   \n",
      "124  2022-2023  FONTR  Coupe Gérard Prido           25.0             36.0   \n",
      "125  2022-2023  CASTR  Coupe Gérard Prido            5.0             15.0   \n",
      "126  2022-2023         Coupe Gérard Prido            3.0              4.0   \n",
      "127  2022-2023  NARBO  Coupe Gérard Prido            0.0              1.0   \n",
      "\n",
      "     trophy_total  total_entries  skater_ratio  \n",
      "0           174.0             33      5.272727  \n",
      "1           142.0             34      4.176471  \n",
      "2           127.0             27      4.703704  \n",
      "3           117.0             21      5.571429  \n",
      "4           115.0             32      3.593750  \n",
      "..            ...            ...           ...  \n",
      "123          81.0             23      3.521739  \n",
      "124          61.0             14      4.357143  \n",
      "125          20.0              6      3.333333  \n",
      "126           7.0              1      7.000000  \n",
      "127           1.0              2      0.500000  \n",
      "\n",
      "[128 rows x 8 columns]\n"
     ]
    }
   ],
   "source": [
    "club_trophies = perf_competitions.groupby(\n",
    "    [\"season\", \"club\", \"competition_name\"]\n",
    ").agg(\n",
    "    {\n",
    "        \"trophy_podium\": \"sum\", \n",
    "        \"trophy_position\": \"sum\", \n",
    "        \"trophy_total\": \"sum\",\n",
    "        \"last_name\": \"count\"\n",
    "    }).rename(columns={\"last_name\": \"total_entries\"})\n",
    "club_trophies[\"skater_ratio\"] = club_trophies[\"trophy_total\"] / club_trophies[\"total_entries\"]\n",
    "club_trophies = club_trophies.sort_values(by=[\"season\", \"competition_name\",\"trophy_total\"], ascending=False).reset_index()\n",
    "print(club_trophies)"
   ]
  },
  {
   "cell_type": "code",
   "execution_count": null,
   "metadata": {},
   "outputs": [],
   "source": []
  }
 ],
 "metadata": {
  "kernelspec": {
   "display_name": "skate_performance_explorer-QtQYqeW3",
   "language": "python",
   "name": "python3"
  },
  "language_info": {
   "codemirror_mode": {
    "name": "ipython",
    "version": 3
   },
   "file_extension": ".py",
   "mimetype": "text/x-python",
   "name": "python",
   "nbconvert_exporter": "python",
   "pygments_lexer": "ipython3",
   "version": "3.12.2"
  }
 },
 "nbformat": 4,
 "nbformat_minor": 2
}
